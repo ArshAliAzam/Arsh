{
  "nbformat": 4,
  "nbformat_minor": 0,
  "metadata": {
    "colab": {
      "provenance": [],
      "authorship_tag": "ABX9TyNfzHL1pdPtN9SikBbN3tKX",
      "include_colab_link": true
    },
    "kernelspec": {
      "name": "python3",
      "display_name": "Python 3"
    },
    "language_info": {
      "name": "python"
    }
  },
  "cells": [
    {
      "cell_type": "markdown",
      "metadata": {
        "id": "view-in-github",
        "colab_type": "text"
      },
      "source": [
        "<a href=\"https://colab.research.google.com/github/ArshAliAzam/My-own-projects/blob/main/My_project1.ipynb\" target=\"_parent\"><img src=\"https://colab.research.google.com/assets/colab-badge.svg\" alt=\"Open In Colab\"/></a>"
      ]
    },
    {
      "cell_type": "code",
      "source": [
        "try:\n",
        "    user = input(\"enter what u want: \")\n",
        "    dic ={\n",
        "    \"name\": \"Arsh Ali Azam\",\n",
        "    \"roll_number\": 501028,\n",
        "    \"city\": \"karachi\"\n",
        "    }\n",
        "    new = {\"game\": \"Free Fire\"}\n",
        "    if user == \"keys\":\n",
        "        print(f\"keys: {dic.keys()}\")\n",
        "    elif user == \"values\":\n",
        "        print(f\"values: {dic.values()}\")\n",
        "    elif user == \"items\":\n",
        "        print(f\"items: {dic.items()}\")\n",
        "    elif user == \"update\":\n",
        "        dic.update(new)\n",
        "        print(f\"Update: {dic}\")\n",
        "    elif user == \"get\":\n",
        "        user = input(\"name, roll_number, city\")\n",
        "        print(f\"Get: {dic.get(user)}\")\n",
        "    elif user == \"dictanary\":\n",
        "        print(dic)\n",
        "    elif user == \"salary\":\n",
        "        print(f\"Get new : {dic.get(\"salary\", \"apnai kam sa kam rakho\")}\")\n",
        "    elif user == \"for keys\":\n",
        "        for d in dic.keys():\n",
        "            print(f\"keys: {d}\")\n",
        "    elif user == \"for values\":\n",
        "        for d in dic.values():\n",
        "            print(f\"values: {d}\")\n",
        "    elif user == \"for items\":\n",
        "        for d in dic.items():\n",
        "            print(f\"items: {d}\")\n",
        "\n",
        "except Exception as a:\n",
        "    print(a)"
      ],
      "metadata": {
        "id": "yter_7DsDWIN"
      },
      "execution_count": null,
      "outputs": []
    }
  ]
}