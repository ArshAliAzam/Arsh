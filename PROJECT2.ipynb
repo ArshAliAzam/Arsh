{
  "nbformat": 4,
  "nbformat_minor": 0,
  "metadata": {
    "colab": {
      "provenance": [],
      "authorship_tag": "ABX9TyOQ9lUPPrMa0zaARxXeE9/w",
      "include_colab_link": true
    },
    "kernelspec": {
      "name": "python3",
      "display_name": "Python 3"
    },
    "language_info": {
      "name": "python"
    }
  },
  "cells": [
    {
      "cell_type": "markdown",
      "metadata": {
        "id": "view-in-github",
        "colab_type": "text"
      },
      "source": [
        "<a href=\"https://colab.research.google.com/github/ArshAliAzam/My-own-projects/blob/main/PROJECT2.ipynb\" target=\"_parent\"><img src=\"https://colab.research.google.com/assets/colab-badge.svg\" alt=\"Open In Colab\"/></a>"
      ]
    },
    {
      "cell_type": "code",
      "source": [
        "num1 = int(input(\"Enter your first value: \"))\n",
        "operator = input(\"Enter '+' , '-' , '*' , '/' : \")\n",
        "num2 = int(input(\"Enter your second value: \"))\n",
        "\n",
        "def calculator(num1 , num2 , operator):\n",
        "\n",
        "    if operator == '+':\n",
        "        return num1 + num2\n",
        "    elif operator == '-':\n",
        "        return num1 - num2\n",
        "    elif operator == '*':\n",
        "        return num1 * num2\n",
        "    elif operator == '/':\n",
        "        return num1 / num2\n",
        "    else:\n",
        "        return \"Invalid value\"\n",
        "\n",
        "result = (calculator(num1 , num2 , operator))\n",
        "print (result)"
      ],
      "metadata": {
        "id": "6ZL6r2c8HaZq"
      },
      "execution_count": null,
      "outputs": []
    }
  ]
}