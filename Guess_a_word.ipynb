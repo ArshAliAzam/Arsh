{
  "nbformat": 4,
  "nbformat_minor": 0,
  "metadata": {
    "colab": {
      "provenance": [],
      "authorship_tag": "ABX9TyOjiU6EEZhok98/7t7B/kw2",
      "include_colab_link": true
    },
    "kernelspec": {
      "name": "python3",
      "display_name": "Python 3"
    },
    "language_info": {
      "name": "python"
    }
  },
  "cells": [
    {
      "cell_type": "markdown",
      "metadata": {
        "id": "view-in-github",
        "colab_type": "text"
      },
      "source": [
        "<a href=\"https://colab.research.google.com/github/ArshAliAzam/My-own-projects/blob/main/Guess_a_word.ipynb\" target=\"_parent\"><img src=\"https://colab.research.google.com/assets/colab-badge.svg\" alt=\"Open In Colab\"/></a>"
      ]
    },
    {
      "cell_type": "code",
      "execution_count": null,
      "metadata": {
        "id": "h99wxD5DvI2H"
      },
      "outputs": [],
      "source": [
        "import random\n",
        "\n",
        "word = [\"python\", \"javascripts\", \"photoshop\", \"skipthose\"]\n",
        "words = random.choice(word)\n",
        "\n",
        "print(f\"Let's play a game. word guess!!: {word}\")\n",
        "print(\"You have to guess a letter to make the guess word\")\n",
        "print(\"Good luck🫡\")\n",
        "\n",
        "guesses = \"\"\n",
        "turn = 5\n",
        "\n",
        "while turn > 0:\n",
        "    fail = 0\n",
        "    for char in words:\n",
        "        if char in guesses:\n",
        "            print(char, end=\" \")\n",
        "        else:\n",
        "            print(\"_\", end=\" \")\n",
        "            fail += 1\n",
        "    print()\n",
        "\n",
        "    if fail == 0:\n",
        "        print(f\"U won🥳. The word is {words}\")\n",
        "        break\n",
        "\n",
        "    guess = input(\"Enter a letter: \")\n",
        "    guesses += guess\n",
        "\n",
        "    if guess not in words:\n",
        "        turn -= 1\n",
        "        print(f\"Wrong guess!! u have {turn} turn left. Be careful 😶‍🌫️\")\n",
        "\n",
        "    if turn == 0:\n",
        "        print(f\"Oooh! sorry u lost.the word is {words}😔\")\n",
        "\n"
      ]
    }
  ]
}